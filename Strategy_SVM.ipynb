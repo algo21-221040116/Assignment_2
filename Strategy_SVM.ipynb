{
 "cells": [
  {
   "cell_type": "code",
   "execution_count": 1,
   "metadata": {},
   "outputs": [],
   "source": [
    "# Obtain Data"
   ]
  }
 ],
 "metadata": {
  "interpreter": {
   "hash": "55cd20c22bf89453a83e485ace202c46c3dd5359158970ad5aee69ba1aecde51"
  },
  "kernelspec": {
   "display_name": "Python 3.8.13 ('jun_3_8')",
   "language": "python",
   "name": "python3"
  },
  "language_info": {
   "codemirror_mode": {
    "name": "ipython",
    "version": 3
   },
   "file_extension": ".py",
   "mimetype": "text/x-python",
   "name": "python",
   "nbconvert_exporter": "python",
   "pygments_lexer": "ipython3",
   "version": "3.8.13"
  },
  "orig_nbformat": 4
 },
 "nbformat": 4,
 "nbformat_minor": 2
}
